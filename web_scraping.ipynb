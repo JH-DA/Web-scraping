{
 "cells": [
  {
   "cell_type": "code",
   "execution_count": 1,
   "metadata": {},
   "outputs": [],
   "source": [
    "#import packages\n",
    "from urllib.request import urlopen as uReq \n",
    "from bs4 import BeautifulSoup as soup\n",
    "import pandas as pd"
   ]
  },
  {
   "cell_type": "markdown",
   "metadata": {},
   "source": [
    "#### opening up connection, grabbing the page "
   ]
  },
  {
   "cell_type": "code",
   "execution_count": 2,
   "metadata": {},
   "outputs": [],
   "source": [
    "my_url='https://www.basketball-reference.com/leagues/NBA_2021_per_game.html'"
   ]
  },
  {
   "cell_type": "code",
   "execution_count": 3,
   "metadata": {},
   "outputs": [],
   "source": [
    "uClient=uReq(my_url)"
   ]
  },
  {
   "cell_type": "code",
   "execution_count": 4,
   "metadata": {},
   "outputs": [],
   "source": [
    "page_html=uClient.read()"
   ]
  },
  {
   "cell_type": "code",
   "execution_count": 5,
   "metadata": {},
   "outputs": [],
   "source": [
    "uClient.close()"
   ]
  },
  {
   "cell_type": "markdown",
   "metadata": {},
   "source": [
    "#### html parsing"
   ]
  },
  {
   "cell_type": "code",
   "execution_count": 6,
   "metadata": {},
   "outputs": [],
   "source": [
    "page_soup=soup(page_html,'html.parser')"
   ]
  },
  {
   "cell_type": "code",
   "execution_count": 7,
   "metadata": {},
   "outputs": [
    {
     "data": {
      "text/plain": [
       "<h1 itemprop=\"name\">\n",
       "<span>2020-21</span> <span>NBA</span> <span class=\"header_end\">Player Stats: Per Game</span>\n",
       "</h1>"
      ]
     },
     "execution_count": 7,
     "metadata": {},
     "output_type": "execute_result"
    }
   ],
   "source": [
    "page_soup.h1"
   ]
  },
  {
   "cell_type": "code",
   "execution_count": 8,
   "metadata": {},
   "outputs": [],
   "source": [
    "# graps each player\n",
    "table=page_soup.findAll('tr',class_='full_table')"
   ]
  },
  {
   "cell_type": "code",
   "execution_count": 9,
   "metadata": {},
   "outputs": [
    {
     "data": {
      "text/plain": [
       "<tr class=\"full_table\"><th class=\"right\" csk=\"1\" data-stat=\"ranker\" scope=\"row\">1</th><td class=\"left\" csk=\"Achiuwa,Precious\" data-append-csv=\"achiupr01\" data-stat=\"player\"><a href=\"/players/a/achiupr01.html\">Precious Achiuwa</a></td><td class=\"center\" data-stat=\"pos\">PF</td><td class=\"right\" data-stat=\"age\">21</td><td class=\"left\" data-stat=\"team_id\"><a href=\"/teams/MIA/2021.html\">MIA</a></td><td class=\"right\" data-stat=\"g\">61</td><td class=\"right\" data-stat=\"gs\">4</td><td class=\"right\" data-stat=\"mp_per_g\">12.1</td><td class=\"right\" data-stat=\"fg_per_g\">2.0</td><td class=\"right\" data-stat=\"fga_per_g\">3.7</td><td class=\"right non_qual\" data-stat=\"fg_pct\">.544</td><td class=\"right iz\" data-stat=\"fg3_per_g\">0.0</td><td class=\"right iz\" data-stat=\"fg3a_per_g\">0.0</td><td class=\"right non_qual iz\" data-stat=\"fg3_pct\">.000</td><td class=\"right\" data-stat=\"fg2_per_g\">2.0</td><td class=\"right\" data-stat=\"fg2a_per_g\">3.7</td><td class=\"right non_qual\" data-stat=\"fg2_pct\">.546</td><td class=\"right non_qual\" data-stat=\"efg_pct\">.544</td><td class=\"right\" data-stat=\"ft_per_g\">0.9</td><td class=\"right\" data-stat=\"fta_per_g\">1.8</td><td class=\"right non_qual\" data-stat=\"ft_pct\">.509</td><td class=\"right\" data-stat=\"orb_per_g\">1.2</td><td class=\"right\" data-stat=\"drb_per_g\">2.2</td><td class=\"right\" data-stat=\"trb_per_g\">3.4</td><td class=\"right\" data-stat=\"ast_per_g\">0.5</td><td class=\"right\" data-stat=\"stl_per_g\">0.3</td><td class=\"right\" data-stat=\"blk_per_g\">0.5</td><td class=\"right\" data-stat=\"tov_per_g\">0.7</td><td class=\"right\" data-stat=\"pf_per_g\">1.5</td><td class=\"right\" data-stat=\"pts_per_g\">5.0</td></tr>"
      ]
     },
     "execution_count": 9,
     "metadata": {},
     "output_type": "execute_result"
    }
   ],
   "source": [
    "table[0]"
   ]
  },
  {
   "cell_type": "code",
   "execution_count": 10,
   "metadata": {},
   "outputs": [
    {
     "data": {
      "text/plain": [
       "540"
      ]
     },
     "execution_count": 10,
     "metadata": {},
     "output_type": "execute_result"
    }
   ],
   "source": [
    "len(table)"
   ]
  },
  {
   "cell_type": "code",
   "execution_count": 11,
   "metadata": {},
   "outputs": [],
   "source": [
    "player=table[0].findAll('td')"
   ]
  },
  {
   "cell_type": "code",
   "execution_count": 12,
   "metadata": {},
   "outputs": [
    {
     "data": {
      "text/plain": [
       "'Precious Achiuwa'"
      ]
     },
     "execution_count": 12,
     "metadata": {},
     "output_type": "execute_result"
    }
   ],
   "source": [
    "player[0].text"
   ]
  },
  {
   "cell_type": "code",
   "execution_count": 13,
   "metadata": {},
   "outputs": [],
   "source": [
    "player=[]\n",
    "for j in table[0].find_all('td'):\n",
    "    \n",
    "    player.append(j.text)"
   ]
  },
  {
   "cell_type": "code",
   "execution_count": 14,
   "metadata": {},
   "outputs": [
    {
     "name": "stdout",
     "output_type": "stream",
     "text": [
      "['Precious Achiuwa', 'PF', '21', 'MIA', '61', '4', '12.1', '2.0', '3.7', '.544', '0.0', '0.0', '.000', '2.0', '3.7', '.546', '.544', '0.9', '1.8', '.509', '1.2', '2.2', '3.4', '0.5', '0.3', '0.5', '0.7', '1.5', '5.0']\n"
     ]
    }
   ],
   "source": [
    "print(player)"
   ]
  },
  {
   "cell_type": "code",
   "execution_count": 15,
   "metadata": {},
   "outputs": [],
   "source": [
    "players=[]\n",
    "for i in range(len(table)):\n",
    "    player=[]\n",
    "    for j in table[i].find_all('td'):\n",
    "        player.append(j.text)\n",
    "    players.append(player)"
   ]
  },
  {
   "cell_type": "code",
   "execution_count": 16,
   "metadata": {},
   "outputs": [],
   "source": [
    "#print(players)"
   ]
  },
  {
   "cell_type": "code",
   "execution_count": 17,
   "metadata": {},
   "outputs": [
    {
     "data": {
      "text/plain": [
       "['Precious Achiuwa',\n",
       " 'PF',\n",
       " '21',\n",
       " 'MIA',\n",
       " '61',\n",
       " '4',\n",
       " '12.1',\n",
       " '2.0',\n",
       " '3.7',\n",
       " '.544',\n",
       " '0.0',\n",
       " '0.0',\n",
       " '.000',\n",
       " '2.0',\n",
       " '3.7',\n",
       " '.546',\n",
       " '.544',\n",
       " '0.9',\n",
       " '1.8',\n",
       " '.509',\n",
       " '1.2',\n",
       " '2.2',\n",
       " '3.4',\n",
       " '0.5',\n",
       " '0.3',\n",
       " '0.5',\n",
       " '0.7',\n",
       " '1.5',\n",
       " '5.0']"
      ]
     },
     "execution_count": 17,
     "metadata": {},
     "output_type": "execute_result"
    }
   ],
   "source": [
    "players[0]"
   ]
  },
  {
   "cell_type": "code",
   "execution_count": 18,
   "metadata": {},
   "outputs": [],
   "source": [
    "columns=page_soup.thead.tr.findAll('th')"
   ]
  },
  {
   "cell_type": "code",
   "execution_count": 19,
   "metadata": {},
   "outputs": [
    {
     "data": {
      "text/plain": [
       "'Rk'"
      ]
     },
     "execution_count": 19,
     "metadata": {},
     "output_type": "execute_result"
    }
   ],
   "source": [
    "columns[0].text"
   ]
  },
  {
   "cell_type": "code",
   "execution_count": 20,
   "metadata": {},
   "outputs": [],
   "source": [
    "cols_names=[]\n",
    "for column in columns:\n",
    "    cols_names.append(column.text)\n"
   ]
  },
  {
   "cell_type": "code",
   "execution_count": 21,
   "metadata": {},
   "outputs": [],
   "source": [
    "columns_names=cols_names[1:]"
   ]
  },
  {
   "cell_type": "code",
   "execution_count": 22,
   "metadata": {},
   "outputs": [
    {
     "data": {
      "text/plain": [
       "['Player',\n",
       " 'Pos',\n",
       " 'Age',\n",
       " 'Tm',\n",
       " 'G',\n",
       " 'GS',\n",
       " 'MP',\n",
       " 'FG',\n",
       " 'FGA',\n",
       " 'FG%',\n",
       " '3P',\n",
       " '3PA',\n",
       " '3P%',\n",
       " '2P',\n",
       " '2PA',\n",
       " '2P%',\n",
       " 'eFG%',\n",
       " 'FT',\n",
       " 'FTA',\n",
       " 'FT%',\n",
       " 'ORB',\n",
       " 'DRB',\n",
       " 'TRB',\n",
       " 'AST',\n",
       " 'STL',\n",
       " 'BLK',\n",
       " 'TOV',\n",
       " 'PF',\n",
       " 'PTS']"
      ]
     },
     "execution_count": 22,
     "metadata": {},
     "output_type": "execute_result"
    }
   ],
   "source": [
    "columns_names"
   ]
  },
  {
   "cell_type": "code",
   "execution_count": 23,
   "metadata": {},
   "outputs": [],
   "source": [
    "for col in columns_names:\n",
    "    if '%' in col:\n",
    "        columns_names[columns_names.index(col)]=col[:-1]+'_perc'"
   ]
  },
  {
   "cell_type": "code",
   "execution_count": 24,
   "metadata": {},
   "outputs": [],
   "source": [
    "#print(columns_names)"
   ]
  },
  {
   "cell_type": "code",
   "execution_count": 25,
   "metadata": {},
   "outputs": [],
   "source": [
    "#columns_names"
   ]
  },
  {
   "cell_type": "code",
   "execution_count": 26,
   "metadata": {},
   "outputs": [],
   "source": [
    "df=pd.DataFrame(players,columns=columns_names)"
   ]
  },
  {
   "cell_type": "code",
   "execution_count": 27,
   "metadata": {},
   "outputs": [
    {
     "data": {
      "text/plain": [
       "(540, 29)"
      ]
     },
     "execution_count": 27,
     "metadata": {},
     "output_type": "execute_result"
    }
   ],
   "source": [
    "df.shape"
   ]
  },
  {
   "cell_type": "code",
   "execution_count": 28,
   "metadata": {},
   "outputs": [],
   "source": [
    "pd.set_option('display.max_columns',29)"
   ]
  },
  {
   "cell_type": "code",
   "execution_count": 29,
   "metadata": {},
   "outputs": [
    {
     "data": {
      "text/html": [
       "<div>\n",
       "<style scoped>\n",
       "    .dataframe tbody tr th:only-of-type {\n",
       "        vertical-align: middle;\n",
       "    }\n",
       "\n",
       "    .dataframe tbody tr th {\n",
       "        vertical-align: top;\n",
       "    }\n",
       "\n",
       "    .dataframe thead th {\n",
       "        text-align: right;\n",
       "    }\n",
       "</style>\n",
       "<table border=\"1\" class=\"dataframe\">\n",
       "  <thead>\n",
       "    <tr style=\"text-align: right;\">\n",
       "      <th></th>\n",
       "      <th>Player</th>\n",
       "      <th>Pos</th>\n",
       "      <th>Age</th>\n",
       "      <th>Tm</th>\n",
       "      <th>G</th>\n",
       "      <th>GS</th>\n",
       "      <th>MP</th>\n",
       "      <th>FG</th>\n",
       "      <th>FGA</th>\n",
       "      <th>FG_perc</th>\n",
       "      <th>3P</th>\n",
       "      <th>3PA</th>\n",
       "      <th>3P_perc</th>\n",
       "      <th>2P</th>\n",
       "      <th>2PA</th>\n",
       "      <th>2P_perc</th>\n",
       "      <th>eFG_perc</th>\n",
       "      <th>FT</th>\n",
       "      <th>FTA</th>\n",
       "      <th>FT_perc</th>\n",
       "      <th>ORB</th>\n",
       "      <th>DRB</th>\n",
       "      <th>TRB</th>\n",
       "      <th>AST</th>\n",
       "      <th>STL</th>\n",
       "      <th>BLK</th>\n",
       "      <th>TOV</th>\n",
       "      <th>PF</th>\n",
       "      <th>PTS</th>\n",
       "    </tr>\n",
       "  </thead>\n",
       "  <tbody>\n",
       "    <tr>\n",
       "      <td>0</td>\n",
       "      <td>Precious Achiuwa</td>\n",
       "      <td>PF</td>\n",
       "      <td>21</td>\n",
       "      <td>MIA</td>\n",
       "      <td>61</td>\n",
       "      <td>4</td>\n",
       "      <td>12.1</td>\n",
       "      <td>2.0</td>\n",
       "      <td>3.7</td>\n",
       "      <td>.544</td>\n",
       "      <td>0.0</td>\n",
       "      <td>0.0</td>\n",
       "      <td>.000</td>\n",
       "      <td>2.0</td>\n",
       "      <td>3.7</td>\n",
       "      <td>.546</td>\n",
       "      <td>.544</td>\n",
       "      <td>0.9</td>\n",
       "      <td>1.8</td>\n",
       "      <td>.509</td>\n",
       "      <td>1.2</td>\n",
       "      <td>2.2</td>\n",
       "      <td>3.4</td>\n",
       "      <td>0.5</td>\n",
       "      <td>0.3</td>\n",
       "      <td>0.5</td>\n",
       "      <td>0.7</td>\n",
       "      <td>1.5</td>\n",
       "      <td>5.0</td>\n",
       "    </tr>\n",
       "    <tr>\n",
       "      <td>1</td>\n",
       "      <td>Jaylen Adams</td>\n",
       "      <td>PG</td>\n",
       "      <td>24</td>\n",
       "      <td>MIL</td>\n",
       "      <td>7</td>\n",
       "      <td>0</td>\n",
       "      <td>2.6</td>\n",
       "      <td>0.1</td>\n",
       "      <td>1.1</td>\n",
       "      <td>.125</td>\n",
       "      <td>0.0</td>\n",
       "      <td>0.3</td>\n",
       "      <td>.000</td>\n",
       "      <td>0.1</td>\n",
       "      <td>0.9</td>\n",
       "      <td>.167</td>\n",
       "      <td>.125</td>\n",
       "      <td>0.0</td>\n",
       "      <td>0.0</td>\n",
       "      <td></td>\n",
       "      <td>0.0</td>\n",
       "      <td>0.4</td>\n",
       "      <td>0.4</td>\n",
       "      <td>0.3</td>\n",
       "      <td>0.0</td>\n",
       "      <td>0.0</td>\n",
       "      <td>0.0</td>\n",
       "      <td>0.1</td>\n",
       "      <td>0.3</td>\n",
       "    </tr>\n",
       "    <tr>\n",
       "      <td>2</td>\n",
       "      <td>Steven Adams</td>\n",
       "      <td>C</td>\n",
       "      <td>27</td>\n",
       "      <td>NOP</td>\n",
       "      <td>58</td>\n",
       "      <td>58</td>\n",
       "      <td>27.7</td>\n",
       "      <td>3.3</td>\n",
       "      <td>5.3</td>\n",
       "      <td>.614</td>\n",
       "      <td>0.0</td>\n",
       "      <td>0.1</td>\n",
       "      <td>.000</td>\n",
       "      <td>3.3</td>\n",
       "      <td>5.3</td>\n",
       "      <td>.620</td>\n",
       "      <td>.614</td>\n",
       "      <td>1.0</td>\n",
       "      <td>2.3</td>\n",
       "      <td>.444</td>\n",
       "      <td>3.7</td>\n",
       "      <td>5.2</td>\n",
       "      <td>8.9</td>\n",
       "      <td>1.9</td>\n",
       "      <td>0.9</td>\n",
       "      <td>0.7</td>\n",
       "      <td>1.3</td>\n",
       "      <td>1.9</td>\n",
       "      <td>7.6</td>\n",
       "    </tr>\n",
       "    <tr>\n",
       "      <td>3</td>\n",
       "      <td>Bam Adebayo</td>\n",
       "      <td>C</td>\n",
       "      <td>23</td>\n",
       "      <td>MIA</td>\n",
       "      <td>64</td>\n",
       "      <td>64</td>\n",
       "      <td>33.5</td>\n",
       "      <td>7.1</td>\n",
       "      <td>12.5</td>\n",
       "      <td>.570</td>\n",
       "      <td>0.0</td>\n",
       "      <td>0.1</td>\n",
       "      <td>.250</td>\n",
       "      <td>7.1</td>\n",
       "      <td>12.4</td>\n",
       "      <td>.573</td>\n",
       "      <td>.571</td>\n",
       "      <td>4.4</td>\n",
       "      <td>5.5</td>\n",
       "      <td>.799</td>\n",
       "      <td>2.2</td>\n",
       "      <td>6.7</td>\n",
       "      <td>9.0</td>\n",
       "      <td>5.4</td>\n",
       "      <td>1.2</td>\n",
       "      <td>1.0</td>\n",
       "      <td>2.6</td>\n",
       "      <td>2.3</td>\n",
       "      <td>18.7</td>\n",
       "    </tr>\n",
       "    <tr>\n",
       "      <td>4</td>\n",
       "      <td>LaMarcus Aldridge</td>\n",
       "      <td>C</td>\n",
       "      <td>35</td>\n",
       "      <td>TOT</td>\n",
       "      <td>26</td>\n",
       "      <td>23</td>\n",
       "      <td>25.9</td>\n",
       "      <td>5.4</td>\n",
       "      <td>11.4</td>\n",
       "      <td>.473</td>\n",
       "      <td>1.2</td>\n",
       "      <td>3.1</td>\n",
       "      <td>.388</td>\n",
       "      <td>4.2</td>\n",
       "      <td>8.3</td>\n",
       "      <td>.505</td>\n",
       "      <td>.525</td>\n",
       "      <td>1.6</td>\n",
       "      <td>1.8</td>\n",
       "      <td>.872</td>\n",
       "      <td>0.7</td>\n",
       "      <td>3.8</td>\n",
       "      <td>4.5</td>\n",
       "      <td>1.9</td>\n",
       "      <td>0.4</td>\n",
       "      <td>1.1</td>\n",
       "      <td>1.0</td>\n",
       "      <td>1.8</td>\n",
       "      <td>13.5</td>\n",
       "    </tr>\n",
       "    <tr>\n",
       "      <td>5</td>\n",
       "      <td>Ty-Shon Alexander</td>\n",
       "      <td>SG</td>\n",
       "      <td>22</td>\n",
       "      <td>PHO</td>\n",
       "      <td>15</td>\n",
       "      <td>0</td>\n",
       "      <td>3.1</td>\n",
       "      <td>0.2</td>\n",
       "      <td>0.8</td>\n",
       "      <td>.250</td>\n",
       "      <td>0.1</td>\n",
       "      <td>0.6</td>\n",
       "      <td>.222</td>\n",
       "      <td>0.1</td>\n",
       "      <td>0.2</td>\n",
       "      <td>.333</td>\n",
       "      <td>.333</td>\n",
       "      <td>0.1</td>\n",
       "      <td>0.1</td>\n",
       "      <td>.500</td>\n",
       "      <td>0.1</td>\n",
       "      <td>0.5</td>\n",
       "      <td>0.7</td>\n",
       "      <td>0.4</td>\n",
       "      <td>0.0</td>\n",
       "      <td>0.1</td>\n",
       "      <td>0.2</td>\n",
       "      <td>0.1</td>\n",
       "      <td>0.6</td>\n",
       "    </tr>\n",
       "    <tr>\n",
       "      <td>6</td>\n",
       "      <td>Nickeil Alexander-Walker</td>\n",
       "      <td>SG</td>\n",
       "      <td>22</td>\n",
       "      <td>NOP</td>\n",
       "      <td>46</td>\n",
       "      <td>13</td>\n",
       "      <td>21.9</td>\n",
       "      <td>4.2</td>\n",
       "      <td>10.0</td>\n",
       "      <td>.419</td>\n",
       "      <td>1.7</td>\n",
       "      <td>4.8</td>\n",
       "      <td>.347</td>\n",
       "      <td>2.5</td>\n",
       "      <td>5.2</td>\n",
       "      <td>.485</td>\n",
       "      <td>.502</td>\n",
       "      <td>1.0</td>\n",
       "      <td>1.4</td>\n",
       "      <td>.727</td>\n",
       "      <td>0.3</td>\n",
       "      <td>2.8</td>\n",
       "      <td>3.1</td>\n",
       "      <td>2.2</td>\n",
       "      <td>1.0</td>\n",
       "      <td>0.5</td>\n",
       "      <td>1.5</td>\n",
       "      <td>1.9</td>\n",
       "      <td>11.0</td>\n",
       "    </tr>\n",
       "    <tr>\n",
       "      <td>7</td>\n",
       "      <td>Grayson Allen</td>\n",
       "      <td>SG</td>\n",
       "      <td>25</td>\n",
       "      <td>MEM</td>\n",
       "      <td>50</td>\n",
       "      <td>38</td>\n",
       "      <td>25.2</td>\n",
       "      <td>3.5</td>\n",
       "      <td>8.3</td>\n",
       "      <td>.418</td>\n",
       "      <td>2.1</td>\n",
       "      <td>5.5</td>\n",
       "      <td>.391</td>\n",
       "      <td>1.3</td>\n",
       "      <td>2.8</td>\n",
       "      <td>.471</td>\n",
       "      <td>.547</td>\n",
       "      <td>1.6</td>\n",
       "      <td>1.8</td>\n",
       "      <td>.868</td>\n",
       "      <td>0.4</td>\n",
       "      <td>2.8</td>\n",
       "      <td>3.2</td>\n",
       "      <td>2.2</td>\n",
       "      <td>0.9</td>\n",
       "      <td>0.2</td>\n",
       "      <td>1.0</td>\n",
       "      <td>1.4</td>\n",
       "      <td>10.6</td>\n",
       "    </tr>\n",
       "    <tr>\n",
       "      <td>8</td>\n",
       "      <td>Jarrett Allen</td>\n",
       "      <td>C</td>\n",
       "      <td>22</td>\n",
       "      <td>TOT</td>\n",
       "      <td>63</td>\n",
       "      <td>45</td>\n",
       "      <td>29.6</td>\n",
       "      <td>4.7</td>\n",
       "      <td>7.7</td>\n",
       "      <td>.618</td>\n",
       "      <td>0.1</td>\n",
       "      <td>0.3</td>\n",
       "      <td>.316</td>\n",
       "      <td>4.6</td>\n",
       "      <td>7.3</td>\n",
       "      <td>.631</td>\n",
       "      <td>.624</td>\n",
       "      <td>3.2</td>\n",
       "      <td>4.6</td>\n",
       "      <td>.703</td>\n",
       "      <td>3.1</td>\n",
       "      <td>6.9</td>\n",
       "      <td>10.0</td>\n",
       "      <td>1.7</td>\n",
       "      <td>0.5</td>\n",
       "      <td>1.4</td>\n",
       "      <td>1.6</td>\n",
       "      <td>1.5</td>\n",
       "      <td>12.8</td>\n",
       "    </tr>\n",
       "    <tr>\n",
       "      <td>9</td>\n",
       "      <td>Al-Farouq Aminu</td>\n",
       "      <td>PF</td>\n",
       "      <td>30</td>\n",
       "      <td>TOT</td>\n",
       "      <td>23</td>\n",
       "      <td>14</td>\n",
       "      <td>18.9</td>\n",
       "      <td>1.7</td>\n",
       "      <td>4.3</td>\n",
       "      <td>.384</td>\n",
       "      <td>0.3</td>\n",
       "      <td>1.6</td>\n",
       "      <td>.216</td>\n",
       "      <td>1.3</td>\n",
       "      <td>2.7</td>\n",
       "      <td>.484</td>\n",
       "      <td>.424</td>\n",
       "      <td>0.8</td>\n",
       "      <td>1.0</td>\n",
       "      <td>.818</td>\n",
       "      <td>1.0</td>\n",
       "      <td>3.8</td>\n",
       "      <td>4.8</td>\n",
       "      <td>1.3</td>\n",
       "      <td>0.8</td>\n",
       "      <td>0.4</td>\n",
       "      <td>1.2</td>\n",
       "      <td>1.3</td>\n",
       "      <td>4.4</td>\n",
       "    </tr>\n",
       "  </tbody>\n",
       "</table>\n",
       "</div>"
      ],
      "text/plain": [
       "                     Player Pos Age   Tm   G  GS    MP   FG   FGA FG_perc  \\\n",
       "0          Precious Achiuwa  PF  21  MIA  61   4  12.1  2.0   3.7    .544   \n",
       "1              Jaylen Adams  PG  24  MIL   7   0   2.6  0.1   1.1    .125   \n",
       "2              Steven Adams   C  27  NOP  58  58  27.7  3.3   5.3    .614   \n",
       "3               Bam Adebayo   C  23  MIA  64  64  33.5  7.1  12.5    .570   \n",
       "4         LaMarcus Aldridge   C  35  TOT  26  23  25.9  5.4  11.4    .473   \n",
       "5         Ty-Shon Alexander  SG  22  PHO  15   0   3.1  0.2   0.8    .250   \n",
       "6  Nickeil Alexander-Walker  SG  22  NOP  46  13  21.9  4.2  10.0    .419   \n",
       "7             Grayson Allen  SG  25  MEM  50  38  25.2  3.5   8.3    .418   \n",
       "8             Jarrett Allen   C  22  TOT  63  45  29.6  4.7   7.7    .618   \n",
       "9           Al-Farouq Aminu  PF  30  TOT  23  14  18.9  1.7   4.3    .384   \n",
       "\n",
       "    3P  3PA 3P_perc   2P   2PA 2P_perc eFG_perc   FT  FTA FT_perc  ORB  DRB  \\\n",
       "0  0.0  0.0    .000  2.0   3.7    .546     .544  0.9  1.8    .509  1.2  2.2   \n",
       "1  0.0  0.3    .000  0.1   0.9    .167     .125  0.0  0.0          0.0  0.4   \n",
       "2  0.0  0.1    .000  3.3   5.3    .620     .614  1.0  2.3    .444  3.7  5.2   \n",
       "3  0.0  0.1    .250  7.1  12.4    .573     .571  4.4  5.5    .799  2.2  6.7   \n",
       "4  1.2  3.1    .388  4.2   8.3    .505     .525  1.6  1.8    .872  0.7  3.8   \n",
       "5  0.1  0.6    .222  0.1   0.2    .333     .333  0.1  0.1    .500  0.1  0.5   \n",
       "6  1.7  4.8    .347  2.5   5.2    .485     .502  1.0  1.4    .727  0.3  2.8   \n",
       "7  2.1  5.5    .391  1.3   2.8    .471     .547  1.6  1.8    .868  0.4  2.8   \n",
       "8  0.1  0.3    .316  4.6   7.3    .631     .624  3.2  4.6    .703  3.1  6.9   \n",
       "9  0.3  1.6    .216  1.3   2.7    .484     .424  0.8  1.0    .818  1.0  3.8   \n",
       "\n",
       "    TRB  AST  STL  BLK  TOV   PF   PTS  \n",
       "0   3.4  0.5  0.3  0.5  0.7  1.5   5.0  \n",
       "1   0.4  0.3  0.0  0.0  0.0  0.1   0.3  \n",
       "2   8.9  1.9  0.9  0.7  1.3  1.9   7.6  \n",
       "3   9.0  5.4  1.2  1.0  2.6  2.3  18.7  \n",
       "4   4.5  1.9  0.4  1.1  1.0  1.8  13.5  \n",
       "5   0.7  0.4  0.0  0.1  0.2  0.1   0.6  \n",
       "6   3.1  2.2  1.0  0.5  1.5  1.9  11.0  \n",
       "7   3.2  2.2  0.9  0.2  1.0  1.4  10.6  \n",
       "8  10.0  1.7  0.5  1.4  1.6  1.5  12.8  \n",
       "9   4.8  1.3  0.8  0.4  1.2  1.3   4.4  "
      ]
     },
     "execution_count": 29,
     "metadata": {},
     "output_type": "execute_result"
    }
   ],
   "source": [
    "df.head(10)"
   ]
  },
  {
   "cell_type": "code",
   "execution_count": 30,
   "metadata": {},
   "outputs": [],
   "source": [
    "#df.info()"
   ]
  },
  {
   "cell_type": "code",
   "execution_count": 31,
   "metadata": {},
   "outputs": [],
   "source": [
    "df['Age']=df['Age'].astype('str').astype('int64')"
   ]
  },
  {
   "cell_type": "code",
   "execution_count": 32,
   "metadata": {},
   "outputs": [
    {
     "name": "stdout",
     "output_type": "stream",
     "text": [
      "<class 'pandas.core.frame.DataFrame'>\n",
      "RangeIndex: 540 entries, 0 to 539\n",
      "Data columns (total 29 columns):\n",
      "Player      540 non-null object\n",
      "Pos         540 non-null object\n",
      "Age         540 non-null int64\n",
      "Tm          540 non-null object\n",
      "G           540 non-null object\n",
      "GS          540 non-null object\n",
      "MP          540 non-null object\n",
      "FG          540 non-null object\n",
      "FGA         540 non-null object\n",
      "FG_perc     540 non-null object\n",
      "3P          540 non-null object\n",
      "3PA         540 non-null object\n",
      "3P_perc     540 non-null object\n",
      "2P          540 non-null object\n",
      "2PA         540 non-null object\n",
      "2P_perc     540 non-null object\n",
      "eFG_perc    540 non-null object\n",
      "FT          540 non-null object\n",
      "FTA         540 non-null object\n",
      "FT_perc     540 non-null object\n",
      "ORB         540 non-null object\n",
      "DRB         540 non-null object\n",
      "TRB         540 non-null object\n",
      "AST         540 non-null object\n",
      "STL         540 non-null object\n",
      "BLK         540 non-null object\n",
      "TOV         540 non-null object\n",
      "PF          540 non-null object\n",
      "PTS         540 non-null object\n",
      "dtypes: int64(1), object(28)\n",
      "memory usage: 122.5+ KB\n"
     ]
    }
   ],
   "source": [
    "df.info()"
   ]
  },
  {
   "cell_type": "code",
   "execution_count": 33,
   "metadata": {},
   "outputs": [
    {
     "data": {
      "text/plain": [
       "25.555555555555557"
      ]
     },
     "execution_count": 33,
     "metadata": {},
     "output_type": "execute_result"
    }
   ],
   "source": [
    "df[\"Age\"].mean()"
   ]
  },
  {
   "cell_type": "code",
   "execution_count": 34,
   "metadata": {},
   "outputs": [],
   "source": [
    "df[['G','GS']]=df[['G','GS']].astype('str').astype('int64')"
   ]
  },
  {
   "cell_type": "code",
   "execution_count": 35,
   "metadata": {},
   "outputs": [
    {
     "data": {
      "text/plain": [
       "G     int64\n",
       "GS    int64\n",
       "dtype: object"
      ]
     },
     "execution_count": 35,
     "metadata": {},
     "output_type": "execute_result"
    }
   ],
   "source": [
    "df[['G','GS']].dtypes"
   ]
  },
  {
   "cell_type": "code",
   "execution_count": 36,
   "metadata": {},
   "outputs": [],
   "source": [
    "df[['MP','FG']]=df[['MP','FG']].astype('float64')"
   ]
  },
  {
   "cell_type": "code",
   "execution_count": 37,
   "metadata": {},
   "outputs": [
    {
     "data": {
      "text/plain": [
       "MP    float64\n",
       "FG    float64\n",
       "dtype: object"
      ]
     },
     "execution_count": 37,
     "metadata": {},
     "output_type": "execute_result"
    }
   ],
   "source": [
    "df[['MP','FG']].dtypes"
   ]
  },
  {
   "cell_type": "code",
   "execution_count": 38,
   "metadata": {},
   "outputs": [],
   "source": [
    "df.to_csv('nba.csv',index=False)"
   ]
  },
  {
   "cell_type": "code",
   "execution_count": 39,
   "metadata": {},
   "outputs": [
    {
     "data": {
      "text/plain": [
       "Age    25.555556\n",
       "G      42.692593\n",
       "GS     20.000000\n",
       "MP     19.820926\n",
       "FG      3.287963\n",
       "dtype: float64"
      ]
     },
     "execution_count": 39,
     "metadata": {},
     "output_type": "execute_result"
    }
   ],
   "source": [
    "df.mean()"
   ]
  },
  {
   "cell_type": "code",
   "execution_count": null,
   "metadata": {},
   "outputs": [],
   "source": []
  }
 ],
 "metadata": {
  "kernelspec": {
   "display_name": "Python 3",
   "language": "python",
   "name": "python3"
  },
  "language_info": {
   "codemirror_mode": {
    "name": "ipython",
    "version": 3
   },
   "file_extension": ".py",
   "mimetype": "text/x-python",
   "name": "python",
   "nbconvert_exporter": "python",
   "pygments_lexer": "ipython3",
   "version": "3.7.4"
  }
 },
 "nbformat": 4,
 "nbformat_minor": 2
}
